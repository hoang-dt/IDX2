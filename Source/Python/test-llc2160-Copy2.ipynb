{
 "cells": [
  {
   "cell_type": "code",
   "execution_count": 1,
   "id": "ebd77d77",
   "metadata": {},
   "outputs": [],
   "source": [
    "import sys\n",
    "sys.path.insert(0, '../../build/install')\n",
    "import idx2Py as i2p\n",
    "import numpy as np\n",
    "from matplotlib import pyplot as plt\n",
    "from ipywidgets import *"
   ]
  },
  {
   "cell_type": "code",
   "execution_count": 2,
   "id": "6ab6dedb",
   "metadata": {},
   "outputs": [
    {
     "name": "stdout",
     "output_type": "stream",
     "text": [
      "(8, 1620, 540)\n",
      "7.5 MB\n",
      "CPU times: total: 703 ms\n",
      "Wall time: 695 ms\n"
     ]
    }
   ],
   "source": [
    "%%time\n",
    "input_file = 'F:/Workspace/idx2/build/Source/Applications/RelWithDebInfo/llc2160/u.idx2'\n",
    "input_dir  = 'F:/Workspace/idx2/build/Source/Applications/RelWithDebInfo'\n",
    "level = 2\n",
    "sublevel = 7\n",
    "accuracy = 0.01\n",
    "array = i2p.Decode3f32(input_file, input_dir, level, sublevel, accuracy)\n",
    "print(array.shape)\n",
    "print('7.5 MB')"
   ]
  },
  {
   "cell_type": "code",
   "execution_count": 7,
   "id": "4db633c4",
   "metadata": {},
   "outputs": [
    {
     "data": {
      "application/vnd.jupyter.widget-view+json": {
       "model_id": "7645cf414201450594d4daf1534ca93a",
       "version_major": 2,
       "version_minor": 0
      },
      "text/plain": [
       "interactive(children=(IntSlider(value=0, description='t', layout=Layout(width='500px'), max=7), Output()), _do…"
      ]
     },
     "metadata": {},
     "output_type": "display_data"
    }
   ],
   "source": [
    "min = np.min(array)\n",
    "max = np.max(array)\n",
    "def f(t): # get time step t\n",
    "    fig = plt.figure(figsize = (4, 12))\n",
    "    plot = plt.imshow(array[0, :, :], origin = 'lower', cmap = 'tab20c', aspect = 'auto', vmin=-6.14770936965942382812, vmax=1.24035537242889404297)\n",
    "    plot.set_data(array[t, :, :])\n",
    "    #plot = plt.imshow(array[t, :, :], origin = 'lower', cmap = 'tab20c', aspect = 'auto', vmin = min, vmax = max)\n",
    "    plt.show()\n",
    "    return\n",
    "\n",
    "interact(f, t = widgets.IntSlider(min = 0, max = array.shape[0] - 1, step = 1, value = 0, layout = Layout(width = '500px')));"
   ]
  }
 ],
 "metadata": {
  "kernelspec": {
   "display_name": "Python 3 (ipykernel)",
   "language": "python",
   "name": "python3"
  },
  "language_info": {
   "codemirror_mode": {
    "name": "ipython",
    "version": 3
   },
   "file_extension": ".py",
   "mimetype": "text/x-python",
   "name": "python",
   "nbconvert_exporter": "python",
   "pygments_lexer": "ipython3",
   "version": "3.9.5"
  }
 },
 "nbformat": 4,
 "nbformat_minor": 5
}
