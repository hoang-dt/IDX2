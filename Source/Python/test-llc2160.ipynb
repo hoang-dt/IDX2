{
 "cells": [
  {
   "cell_type": "code",
   "execution_count": 1,
   "id": "ebd77d77",
   "metadata": {},
   "outputs": [],
   "source": [
    "import sys\n",
    "sys.path.insert(0, 'F:/Workspace/idx2/build/Source/Python/Release')\n",
    "import idx2Py as i2p\n",
    "import numpy as np\n",
    "from matplotlib import pyplot as plt\n",
    "from ipywidgets import *"
   ]
  },
  {
   "cell_type": "code",
   "execution_count": 2,
   "id": "6ab6dedb",
   "metadata": {},
   "outputs": [
    {
     "name": "stdout",
     "output_type": "stream",
     "text": [
      "CPU times: total: 0 ns\n",
      "Wall time: 0 ns\n"
     ]
    }
   ],
   "source": [
    "%%time\n",
    "input_dir  = 'D:/Datasets/nasa/llc_2160_32'\n",
    "level = 2\n",
    "sublevel = 7\n",
    "accuracy = 0.01\n",
    "vmin = -6.14770936965942382812\n",
    "vmax = 1.24035537242889404297"
   ]
  },
  {
   "cell_type": "markdown",
   "id": "f242426a",
   "metadata": {},
   "source": [
    "# Visualize a single face through time"
   ]
  },
  {
   "cell_type": "code",
   "execution_count": 3,
   "id": "80b8ae95",
   "metadata": {},
   "outputs": [
    {
     "data": {
      "application/vnd.jupyter.widget-view+json": {
       "model_id": "3b17ca12f7874ac581154ad49c9e3dce",
       "version_major": 2,
       "version_minor": 0
      },
      "text/plain": [
       "interactive(children=(IntSlider(value=0, description='t', layout=Layout(width='500px'), max=0), Output()), _do…"
      ]
     },
     "metadata": {},
     "output_type": "display_data"
    }
   ],
   "source": [
    "%matplotlib inline\n",
    "array = i2p.Decode3f32('D:/Datasets/nasa/llc_2160_32/llc2160/u-face-0-depth-3-time-0-32.idx2', input_dir, level, sublevel, accuracy)\n",
    "plot = None\n",
    "def f(t): # get time step t\n",
    "  fig = plt.figure(figsize = (4, 12))\n",
    "  plot = plt.imshow(array[t, :, :], origin = 'lower', cmap = 'tab20c', aspect = 'auto', vmin = vmin, vmax = vmax)\n",
    "  # plot.set_data(array[t, ::2, ::2])\n",
    "  plt.show()\n",
    "  return\n",
    "\n",
    "interact(f, t = widgets.IntSlider(min = 0, max = array.shape[0] - 1, step = 1, value = 0, layout = Layout(width = '500px')));\n"
   ]
  },
  {
   "cell_type": "markdown",
   "id": "6776ff96",
   "metadata": {},
   "source": [
    "# Visualize four faces through time"
   ]
  },
  {
   "cell_type": "code",
   "execution_count": 4,
   "id": "4150bd31",
   "metadata": {},
   "outputs": [],
   "source": [
    "%matplotlib inline\n",
    "level = 1\n",
    "accuracy = 0.1\n",
    "array0 = i2p.Decode3f32('D:/Datasets/nasa/llc_2160_32/llc2160/u-face-0-depth-3-time-0-32.idx2', input_dir, level, sublevel, accuracy)\n",
    "array1 = i2p.Decode3f32('D:/Datasets/nasa/llc_2160_32/llc2160/u-face-1-depth-3-time-0-32.idx2', input_dir, level, sublevel, accuracy)\n",
    "array3 = i2p.Decode3f32('D:/Datasets/nasa/llc_2160_32/llc2160/u-face-3-depth-3-time-0-32.idx2', input_dir, level, sublevel, accuracy)\n",
    "array4 = i2p.Decode3f32('D:/Datasets/nasa/llc_2160_32/llc2160/u-face-4-depth-3-time-0-32.idx2', input_dir, level, sublevel, accuracy)\n",
    "# vmin = min(np.min(array0), np.min(array1), np.min(array3), np.min(array4))\n",
    "# vmax = max(np.max(array0), np.max(array1), np.max(array3), np.max(array4))\n",
    "\n",
    "def f(t): # get time step t\n",
    "  fig, ((ax0, ax1, ax3, ax4)) = plt.subplots(1, 4, figsize=([15, 12]))\n",
    "  ax0.axis('off')\n",
    "  ax1.axis('off')\n",
    "  ax3.axis('off')\n",
    "  ax4.axis('off')\n",
    "  ax0.imshow(array0[t, ::4, ::4], origin = 'lower', cmap = 'tab20c', aspect = 'auto', vmin = vmin, vmax = vmax)\n",
    "  ax1.imshow(array1[t, ::4, ::4], origin = 'lower', cmap = 'tab20c', aspect = 'auto', vmin = vmin, vmax = vmax)\n",
    "  ax3.imshow(np.rot90(array3[t, ::4, ::4]), origin = 'lower', cmap = 'tab20c', aspect = 'auto', vmin = vmin, vmax = vmax)\n",
    "  ax4.imshow(np.rot90(array4[t, ::4, ::4]), origin = 'lower', cmap = 'tab20c', aspect = 'auto', vmin = vmin, vmax = vmax)  \n",
    "  return  \n",
    "\n",
    "interact(f, t = widgets.IntSlider(min = 0, max = array1.shape[0] - 1, step = 1, value = 0, layout = Layout(width = '500px')));"
   ]
  },
  {
   "cell_type": "markdown",
   "id": "b8d1a231",
   "metadata": {},
   "source": [
    "# Visualize four faces through depths"
   ]
  },
  {
   "cell_type": "code",
   "execution_count": null,
   "id": "20348fd2",
   "metadata": {},
   "outputs": [
    {
     "data": {
      "application/vnd.jupyter.widget-view+json": {
       "model_id": "6abea2de705d4d0da011fdad543b0779",
       "version_major": 2,
       "version_minor": 0
      },
      "text/plain": [
       "interactive(children=(IntSlider(value=0, description='d', layout=Layout(width='800px'), max=89), Output()), _d…"
      ]
     },
     "metadata": {},
     "output_type": "display_data"
    }
   ],
   "source": [
    "%matplotlib inline\n",
    "level = 2\n",
    "accuracy = 0.1\n",
    "\n",
    "def f(d): # get time step t\n",
    "  array0 = i2p.Decode3f32('D:/Datasets/nasa/llc_2160_32/llc2160/u-face-0-depth-' + repr(d) + '-time-0-32.idx2', input_dir, level, sublevel, accuracy)\n",
    "  array1 = i2p.Decode3f32('D:/Datasets/nasa/llc_2160_32/llc2160/u-face-1-depth-' + repr(d) + '-time-0-32.idx2', input_dir, level, sublevel, accuracy)\n",
    "  array3 = i2p.Decode3f32('D:/Datasets/nasa/llc_2160_32/llc2160/u-face-3-depth-' + repr(d) + '-time-0-32.idx2', input_dir, level, sublevel, accuracy)\n",
    "  array4 = i2p.Decode3f32('D:/Datasets/nasa/llc_2160_32/llc2160/u-face-4-depth-' + repr(d) + '-time-0-32.idx2', input_dir, level, sublevel, accuracy)\n",
    "  fig, ((ax0, ax1, ax3, ax4)) = plt.subplots(1, 4, figsize=([15, 12]))\n",
    "  ax0.axis('off')\n",
    "  ax1.axis('off')\n",
    "  ax3.axis('off')\n",
    "  ax4.axis('off')\n",
    "  ax0.imshow(array0[0, ::2, ::2], origin = 'lower', cmap = 'tab20c', aspect = 'auto', vmin = vmin, vmax = vmax)\n",
    "  ax1.imshow(array1[0, ::2, ::2], origin = 'lower', cmap = 'tab20c', aspect = 'auto', vmin = vmin, vmax = vmax)\n",
    "  ax3.imshow(np.rot90(array3[0, ::2, ::2]), origin = 'lower', cmap = 'tab20c', aspect = 'auto', vmin = vmin, vmax = vmax)\n",
    "  ax4.imshow(np.rot90(array4[0, ::2, ::2]), origin = 'lower', cmap = 'tab20c', aspect = 'auto', vmin = vmin, vmax = vmax)  \n",
    "  return  \n",
    "\n",
    "interact(f, d = widgets.IntSlider(min = 0, max = 89, step = 1, value = 0, layout = Layout(width = '800px')));"
   ]
  },
  {
   "cell_type": "markdown",
   "id": "221c2daf",
   "metadata": {},
   "source": [
    "# Vertical slicing along x"
   ]
  },
  {
   "cell_type": "code",
   "execution_count": null,
   "id": "da9b4760",
   "metadata": {},
   "outputs": [
    {
     "data": {
      "application/vnd.jupyter.widget-view+json": {
       "model_id": "e65999acf3d24e5f84262750ae47711b",
       "version_major": 2,
       "version_minor": 0
      },
      "text/plain": [
       "interactive(children=(IntSlider(value=0, description='x', layout=Layout(width='800px'), max=8639, step=10), Ou…"
      ]
     },
     "metadata": {},
     "output_type": "display_data"
    }
   ],
   "source": [
    "%matplotlib inline\n",
    "level = 3\n",
    "accuracy = 0.1\n",
    "\n",
    "def f(x): # get time step t\n",
    "  face = x // 2160\n",
    "  xx = x % 2160\n",
    "  nx = 0 # TODO: figure this out from x\n",
    "  ny = 90\n",
    "  array = None\n",
    "  for d in range(0, 90):    \n",
    "    extent = (xx, 0, 0, xx, 2160 * 3, 0)\n",
    "    if (face > 2):\n",
    "      extent = (0, xx, 0, 2160 * 3, xx, 0)\n",
    "    a = i2p.DecodeExtent3f32('D:/Datasets/nasa/llc_2160_32/llc2160/u-face-' + repr(face) + '-depth-' + repr(d) + '-time-0-32.idx2', input_dir, extent, level, sublevel, accuracy)\n",
    "    if d == 0:\n",
    "      print(a.shape)\n",
    "      nx = a.shape[1]\n",
    "      array = np.empty((ny, nx))\n",
    "    if (face > 2):\n",
    "      a = np.rot90(a)\n",
    "    array[d, :] = a[0, :, xx]\n",
    "\n",
    "  fig = plt.plot(figsize = ([216, 24]))\n",
    "  plt.imshow(array, origin = 'lower', cmap = 'tab20c', aspect = 'auto', vmin = vmin, vmax = vmax)\n",
    "  return\n",
    "\n",
    "interact(f, x = widgets.IntSlider(min = 0, max = 8639, step = 10, value = 0, layout = Layout(width = '800px')));"
   ]
  }
 ],
 "metadata": {
  "interpreter": {
   "hash": "4da9a445269eaf7644d508d1b9c6a8048325acbe8141c1a0f1b98c2b970b1f1d"
  },
  "kernelspec": {
   "display_name": "Python 3.9.5 64-bit (system)",
   "language": "python",
   "name": "python3"
  },
  "language_info": {
   "codemirror_mode": {
    "name": "ipython",
    "version": 3
   },
   "file_extension": ".py",
   "mimetype": "text/x-python",
   "name": "python",
   "nbconvert_exporter": "python",
   "pygments_lexer": "ipython3",
   "version": "3.10.0"
  }
 },
 "nbformat": 4,
 "nbformat_minor": 5
}
