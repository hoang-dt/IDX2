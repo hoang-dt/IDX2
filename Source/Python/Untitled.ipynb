{
 "cells": [
  {
   "cell_type": "code",
   "execution_count": 1,
   "id": "63132fef",
   "metadata": {},
   "outputs": [],
   "source": [
    "import sys\n",
    "sys.path.insert(0, '../../build/install')\n",
    "import idx2Py as i2p\n",
    "import numpy as np"
   ]
  },
  {
   "cell_type": "code",
   "execution_count": 2,
   "id": "b8e04413",
   "metadata": {},
   "outputs": [
    {
     "name": "stdout",
     "output_type": "stream",
     "text": [
      "(8, 1620, 540)\n"
     ]
    }
   ],
   "source": [
    "input_file = 'F:/Workspace/idx2/build/Source/Applications/RelWithDebInfo/llc2160/u.idx2'\n",
    "input_dir  = 'F:/Workspace/idx2/build/Source/Applications/RelWithDebInfo'\n",
    "level = 2\n",
    "sublevel = 7\n",
    "accuracy = 0.1\n",
    "array = i2p.Decode3f32(input_file, input_dir, level, sublevel, accuracy)\n",
    "print(array.shape)\n",
    "#array.tofile('output.raw')"
   ]
  },
  {
   "cell_type": "code",
   "execution_count": null,
   "id": "f291da5b",
   "metadata": {},
   "outputs": [],
   "source": []
  }
 ],
 "metadata": {
  "kernelspec": {
   "display_name": "Python 3 (ipykernel)",
   "language": "python",
   "name": "python3"
  },
  "language_info": {
   "codemirror_mode": {
    "name": "ipython",
    "version": 3
   },
   "file_extension": ".py",
   "mimetype": "text/x-python",
   "name": "python",
   "nbconvert_exporter": "python",
   "pygments_lexer": "ipython3",
   "version": "3.9.5"
  }
 },
 "nbformat": 4,
 "nbformat_minor": 5
}
